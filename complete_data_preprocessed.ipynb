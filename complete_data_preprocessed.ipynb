{
 "cells": [
  {
   "cell_type": "code",
   "execution_count": 1,
   "id": "6cbdab0c",
   "metadata": {
    "id": "6cbdab0c"
   },
   "outputs": [],
   "source": [
    "import pandas as pd"
   ]
  },
  {
   "cell_type": "code",
   "execution_count": null,
   "id": "6758661c",
   "metadata": {
    "id": "6758661c"
   },
   "outputs": [],
   "source": [
    "nba_1982_to_2022 = pd.read_csv(\"NBA_Dataset.csv\")\n",
    "per_game_2023 = pd.read_csv(\"nba_per_game_2023.csv\")\n",
    "adv_2023 = pd.read_csv(\"nba_adv_2023.csv\")\n",
    "per_game_2024 = pd.read_csv(\"2023-2024_NBA_per_game.csv\")\n",
    "adv_2024 = pd.read_csv(\"2023-2024_NBA.csv\")"
   ]
  },
  {
   "cell_type": "code",
   "execution_count": null,
   "id": "671610cc",
   "metadata": {
    "id": "671610cc"
   },
   "outputs": [],
   "source": [
    "per_game_2023.drop(columns=['Player-additional'], inplace=True)\n",
    "adv_2023.drop(columns=['Player-additional'], inplace=True)\n",
    "per_game_2024.drop(columns=['Player-additional'], inplace=True)\n",
    "adv_2024.drop(columns=['Player-additional'], inplace=True)\n",
    "adv_2024.drop(columns=adv_2024.columns[24], inplace=True)\n",
    "adv_2024.drop(columns=adv_2024.columns[19], inplace=True)\n",
    "nba_1982_to_2022 = nba_1982_to_2022.fillna(0.0)\n",
    "per_game_2023 = per_game_2023.fillna(0.0)\n",
    "adv_2023 = adv_2023.fillna(0.0)\n",
    "per_game_2024 = per_game_2024.fillna(0.0)\n",
    "adv_2024 = adv_2024.fillna(0.0)"
   ]
  },
  {
   "cell_type": "code",
   "execution_count": null,
   "id": "6269ba33",
   "metadata": {
    "id": "6269ba33"
   },
   "outputs": [],
   "source": [
    "per_game_mappings = {\"MP\":\"mp_per_g\", \"FG\":\"fg_per_g\", \"FGA\":\"fga_per_g\", \"FG%\":\"fg_pct\", \"3P\":\"fg3_per_g\",\n",
    "                     \"3PA\":\"fg3a_per_g\", \"3P%\":\"fg3_pct\", \"2P\":\"fg2_per_g\", \"2PA\":\"fg2a_per_g\", \"2P%\":\"fg2_pct\",\n",
    "                     \"eFG%\":\"efg_pct\", \"FT\":\"ft_per_g\", \"FTA\":\"fta_per_g\", \"FT%\":\"ft_pct\", \"ORB\":\"orb_per_g\",\n",
    "                     \"DRB\":\"drb_per_g\", \"TRB\":\"trb_per_g\", \"AST\":\"ast_per_g\", \"STL\":\"stl_per_g\", \"BLK\":\"blk_per_g\",\n",
    "                     \"TOV\":\"tov_per_g\", \"PF\":\"pf_per_g\", \"PTS\":\"pts_per_g\", \"Player\":\"player\", \"Pos\":\"pos\",\n",
    "                     \"Age\":\"age\", \"Tm\":\"team_id\", \"G\":\"g\", \"GS\":\"gs\"}\n",
    "advanced_mappings = {\"Player\":\"player\", \"Pos\":\"pos\", \"Age\":\"age\", \"Tm\":\"team_id\",\n",
    "            \"G\":\"g\", \"GS\":\"gs\" ,\"MP\":\"mp\", \"PER\":\"per\", \"TS%\":\"ts_pct\", \"3PAr\":\"fg3a_per_fga_pct\", \"FTr\":\"fta_per_fga_pct\",\n",
    "            \"ORB%\":\"orb_pct\", \"DRB%\":\"drb_pct\", \"TRB%\":\"trb_pct\", \"AST%\":\"ast_pct\", \"STL%\":\"stl_pct\", \"BLK%\":\"blk_pct\",\n",
    "            \"TOV%\":\"tov_pct\", \"USG%\":\"usg_pct\", \"OWS\":\"ows\", \"DWS\":\"dws\", \"WS\":\"ws\", \"WS/48\":\"ws_per_48\", \"OBPM\":\"obpm\",\n",
    "            \"DBPM\":\"dbpm\", \"BPM\":\"bpm\", \"VORP\":\"vorp\"}"
   ]
  },
  {
   "cell_type": "code",
   "execution_count": null,
   "id": "681a221d",
   "metadata": {
    "id": "681a221d"
   },
   "outputs": [],
   "source": [
    "per_game_2023 = per_game_2023.rename(columns=per_game_mappings)\n",
    "per_game_2024 = per_game_2024.rename(columns=per_game_mappings)\n",
    "adv_2023 = adv_2023.rename(columns=advanced_mappings)\n",
    "adv_2024 = adv_2024.rename(columns=advanced_mappings)"
   ]
  },
  {
   "cell_type": "code",
   "execution_count": null,
   "id": "40533e16",
   "metadata": {
    "id": "40533e16"
   },
   "outputs": [],
   "source": [
    "data_2023 = pd.merge(per_game_2023, adv_2023, how='left')\n",
    "data_2024 = pd.merge(per_game_2024, adv_2024, how='left')"
   ]
  },
  {
   "cell_type": "code",
   "execution_count": null,
   "id": "b22e84ad",
   "metadata": {
    "id": "b22e84ad"
   },
   "outputs": [],
   "source": [
    "data_2023['season'] = 2023\n",
    "data_2024['season'] = 2024"
   ]
  },
  {
   "cell_type": "code",
   "execution_count": null,
   "id": "6340ea36",
   "metadata": {
    "id": "6340ea36"
   },
   "outputs": [],
   "source": [
    "player_counts = data_2023.groupby('player').size()\n",
    "\n",
    "multi_row_players = player_counts[player_counts > 1].index\n",
    "\n",
    "multi_row_tot_rows = data_2023[(data_2023['player'].isin(multi_row_players)) & (data_2023['team_id'] == 'TOT')]\n",
    "\n",
    "single_row_players = player_counts[player_counts == 1].index\n",
    "single_row_data = data_2023[data_2023['player'].isin(single_row_players)]\n",
    "\n",
    "data_2023 = pd.concat([multi_row_tot_rows, single_row_data])"
   ]
  },
  {
   "cell_type": "code",
   "execution_count": null,
   "id": "9b1c724b",
   "metadata": {
    "id": "9b1c724b"
   },
   "outputs": [],
   "source": [
    "player_counts = data_2024.groupby('player').size()\n",
    "\n",
    "multi_row_players = player_counts[player_counts > 1].index\n",
    "\n",
    "multi_row_tot_rows = data_2024[(data_2024['player'].isin(multi_row_players)) & (data_2024['team_id'] == 'TOT')]\n",
    "\n",
    "single_row_players = player_counts[player_counts == 1].index\n",
    "single_row_data = data_2024[data_2024['player'].isin(single_row_players)]\n",
    "\n",
    "data_2024 = pd.concat([multi_row_tot_rows, single_row_data])"
   ]
  },
  {
   "cell_type": "code",
   "execution_count": null,
   "id": "2000c129",
   "metadata": {
    "id": "2000c129"
   },
   "outputs": [],
   "source": [
    "data_2023_and_2024 = pd.concat([data_2023, data_2024], ignore_index=True)"
   ]
  },
  {
   "cell_type": "code",
   "execution_count": null,
   "id": "34a25bb6",
   "metadata": {
    "id": "34a25bb6"
   },
   "outputs": [],
   "source": [
    "data_2023_and_2024.drop(columns=['Rk'], inplace=True)"
   ]
  },
  {
   "cell_type": "code",
   "execution_count": null,
   "id": "be25b935",
   "metadata": {
    "id": "be25b935"
   },
   "outputs": [],
   "source": [
    "data_2023_and_2024 = data_2023_and_2024.fillna(0.0)"
   ]
  },
  {
   "cell_type": "code",
   "execution_count": null,
   "id": "c58b551b",
   "metadata": {
    "id": "c58b551b"
   },
   "outputs": [],
   "source": [
    "nba_data = pd.merge(data_2023_and_2024, nba_1982_to_2022, how='outer')"
   ]
  },
  {
   "cell_type": "code",
   "execution_count": null,
   "id": "87df16a9",
   "metadata": {
    "id": "87df16a9"
   },
   "outputs": [],
   "source": [
    "min_season_dict = nba_data.groupby('player')['season'].min().to_dict()\n",
    "\n",
    "def calculate_experience(row):\n",
    "    return row['season'] - min_season_dict[row['player']] + 1\n",
    "\n",
    "nba_data['experience'] = nba_data.apply(calculate_experience, axis=1)"
   ]
  },
  {
   "cell_type": "code",
   "execution_count": null,
   "id": "e954b9a2",
   "metadata": {
    "id": "e954b9a2"
   },
   "outputs": [],
   "source": [
    "complete_data_after_2000 = nba_data[nba_data['season'] >= 2000]"
   ]
  },
  {
   "cell_type": "code",
   "execution_count": null,
   "id": "fa5257a5",
   "metadata": {
    "id": "fa5257a5"
   },
   "outputs": [],
   "source": [
    "complete_data_after_2000.to_csv(\"complete_data_after_2000.csv\")"
   ]
  }
 ],
 "metadata": {
  "colab": {
   "provenance": []
  },
  "kernelspec": {
   "display_name": "Python 3",
   "language": "python",
   "name": "python3"
  },
  "language_info": {
   "codemirror_mode": {
    "name": "ipython",
    "version": 3
   },
   "file_extension": ".py",
   "mimetype": "text/x-python",
   "name": "python",
   "nbconvert_exporter": "python",
   "pygments_lexer": "ipython3",
   "version": "3.8.8"
  }
 },
 "nbformat": 4,
 "nbformat_minor": 5
}
